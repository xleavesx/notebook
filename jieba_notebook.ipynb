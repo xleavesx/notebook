{
 "cells": [
  {
   "cell_type": "code",
   "execution_count": 2,
   "id": "21100ba2",
   "metadata": {},
   "outputs": [],
   "source": [
    "import jieba\n",
    "import re"
   ]
  },
  {
   "cell_type": "code",
   "execution_count": 6,
   "id": "5d2d9a76",
   "metadata": {},
   "outputs": [],
   "source": [
    "acc=jieba.cut(\"每周六总是睡很久\",cut_all=True)"
   ]
  },
  {
   "cell_type": "code",
   "execution_count": null,
   "id": "87ae16a8",
   "metadata": {},
   "outputs": [],
   "source": [
    "text = \", \".join(acc)"
   ]
  },
  {
   "cell_type": "code",
   "execution_count": 7,
   "id": "7960c0a6",
   "metadata": {},
   "outputs": [
    {
     "data": {
      "text/plain": [
       "['每周', '每周六', '周六', '总是', '睡', '很久']"
      ]
     },
     "execution_count": 7,
     "metadata": {},
     "output_type": "execute_result"
    }
   ],
   "source": [
    "list(acc)"
   ]
  },
  {
   "cell_type": "code",
   "execution_count": null,
   "id": "d8d62a93",
   "metadata": {},
   "outputs": [],
   "source": [
    "iter"
   ]
  },
  {
   "cell_type": "code",
   "execution_count": 8,
   "id": "af5a6e8b",
   "metadata": {
    "scrolled": true
   },
   "outputs": [
    {
     "data": {
      "text/plain": [
       "generator"
      ]
     },
     "execution_count": 8,
     "metadata": {},
     "output_type": "execute_result"
    }
   ],
   "source": [
    "type(acc)"
   ]
  },
  {
   "cell_type": "markdown",
   "id": "5f3ca995",
   "metadata": {},
   "source": [
    "jieba'print is a iter\n",
    "iter里面的东西一旦调出来则被删除掉\n",
    "所以join出来之后里面就空了"
   ]
  },
  {
   "cell_type": "code",
   "execution_count": 9,
   "id": "0eaa81f6",
   "metadata": {},
   "outputs": [
    {
     "name": "stdout",
     "output_type": "stream",
     "text": [
      "a\n",
      "e\n",
      "i\n",
      "o\n",
      "u\n"
     ]
    }
   ],
   "source": [
    "vowels = ['a', 'e', 'i', 'o', 'u']\n",
    "vowels_iter = iter(vowels)\n",
    "\n",
    "print(next(vowels_iter))    # 'a'\n",
    "print(next(vowels_iter))    # 'e'\n",
    "print(next(vowels_iter))    # 'i'\n",
    "print(next(vowels_iter))    # 'o'\n",
    "print(next(vowels_iter))    # 'u'"
   ]
  },
  {
   "cell_type": "code",
   "execution_count": 12,
   "id": "cbc43cec",
   "metadata": {},
   "outputs": [
    {
     "name": "stdout",
     "output_type": "stream",
     "text": [
      "a\n",
      "['e', 'i', 'o', 'u']\n"
     ]
    }
   ],
   "source": [
    "vowels = ['a', 'e', 'i', 'o', 'u']\n",
    "vowels_iter = iter(vowels)\n",
    "print(next(vowels_iter))\n",
    "print(list(vowels_iter))"
   ]
  },
  {
   "cell_type": "code",
   "execution_count": 14,
   "id": "21fbe940",
   "metadata": {},
   "outputs": [
    {
     "data": {
      "text/plain": [
       "[]"
      ]
     },
     "execution_count": 14,
     "metadata": {},
     "output_type": "execute_result"
    }
   ],
   "source": [
    "list(vowels_iter)"
   ]
  }
 ],
 "metadata": {
  "kernelspec": {
   "display_name": "Python 3",
   "language": "python",
   "name": "python3"
  },
  "language_info": {
   "codemirror_mode": {
    "name": "ipython",
    "version": 3
   },
   "file_extension": ".py",
   "mimetype": "text/x-python",
   "name": "python",
   "nbconvert_exporter": "python",
   "pygments_lexer": "ipython3",
   "version": "3.8.8"
  }
 },
 "nbformat": 4,
 "nbformat_minor": 5
}
