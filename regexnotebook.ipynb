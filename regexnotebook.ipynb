{
 "cells": [
  {
   "cell_type": "markdown",
   "id": "32b96072",
   "metadata": {},
   "source": [
    "# escape"
   ]
  },
  {
   "cell_type": "markdown",
   "id": "1cfdb862",
   "metadata": {},
   "source": [
    "做re一定要用原文档"
   ]
  },
  {
   "cell_type": "code",
   "execution_count": 1,
   "id": "eb2a0b53",
   "metadata": {},
   "outputs": [
    {
     "name": "stdout",
     "output_type": "stream",
     "text": [
      "\\S\n"
     ]
    }
   ],
   "source": [
    "print(\"\\\\S\") "
   ]
  },
  {
   "cell_type": "code",
   "execution_count": 2,
   "id": "2b13a7df",
   "metadata": {},
   "outputs": [
    {
     "name": "stdout",
     "output_type": "stream",
     "text": [
      "a\n",
      "bacd\b\n",
      "\\c\n"
     ]
    }
   ],
   "source": [
    "print(\"a\\nbacd\\b\\n\\\\c\")  #\\t = tab   #\\b = backspace     escape"
   ]
  },
  {
   "cell_type": "markdown",
   "id": "4ba40a58",
   "metadata": {},
   "source": [
    "# Regular expressions/regex"
   ]
  },
  {
   "cell_type": "code",
   "execution_count": 3,
   "id": "f6489910",
   "metadata": {},
   "outputs": [],
   "source": [
    "import re"
   ]
  },
  {
   "cell_type": "code",
   "execution_count": null,
   "id": "e523a77e",
   "metadata": {},
   "outputs": [],
   "source": [
    "re.search(pattern, string, flags=0)\n",
    "re.match(pattern, string, flags=0)"
   ]
  },
  {
   "cell_type": "code",
   "execution_count": null,
   "id": "a03efa1d",
   "metadata": {},
   "outputs": [],
   "source": [
    "re.search(r\"\\.([^\\.]+)$\", \"2021.1.2.doc\")[1]# + *"
   ]
  },
  {
   "cell_type": "code",
   "execution_count": 13,
   "id": "207cf36c",
   "metadata": {},
   "outputs": [],
   "source": [
    "zyp = \"zyp.zypabandon.zyp301.112711.acdf112.a+ecd1c\""
   ]
  },
  {
   "cell_type": "code",
   "execution_count": 19,
   "id": "d5f170b4",
   "metadata": {},
   "outputs": [
    {
     "data": {
      "text/plain": [
       "'zyp.zypabandon.zyp301.112711.acdf112.a+ecd1c'"
      ]
     },
     "execution_count": 19,
     "metadata": {},
     "output_type": "execute_result"
    }
   ],
   "source": [
    "re.search(r\"^zyp\\S+\", zyp)[0]"
   ]
  },
  {
   "cell_type": "code",
   "execution_count": 22,
   "id": "66be10d8",
   "metadata": {},
   "outputs": [
    {
     "data": {
      "text/plain": [
       "'zyp'"
      ]
     },
     "execution_count": 22,
     "metadata": {},
     "output_type": "execute_result"
    }
   ],
   "source": [
    "re.search(r\"^zyp\", zyp)[0]"
   ]
  },
  {
   "cell_type": "code",
   "execution_count": 29,
   "id": "4d9f2ae1",
   "metadata": {},
   "outputs": [
    {
     "data": {
      "text/plain": [
       "'zyp.zypabandon.zyp301.112711.acdf112.a+ecd1c'"
      ]
     },
     "execution_count": 29,
     "metadata": {},
     "output_type": "execute_result"
    }
   ],
   "source": [
    "re.match(r\"^zyp\\S+\", zyp)[0]"
   ]
  },
  {
   "cell_type": "code",
   "execution_count": 30,
   "id": "cbdf60e9",
   "metadata": {},
   "outputs": [
    {
     "ename": "TypeError",
     "evalue": "'NoneType' object is not subscriptable",
     "output_type": "error",
     "traceback": [
      "\u001b[0;31m---------------------------------------------------------------------------\u001b[0m",
      "\u001b[0;31mTypeError\u001b[0m                                 Traceback (most recent call last)",
      "\u001b[0;32m<ipython-input-30-bf13b0f6ced8>\u001b[0m in \u001b[0;36m<module>\u001b[0;34m\u001b[0m\n\u001b[0;32m----> 1\u001b[0;31m \u001b[0mre\u001b[0m\u001b[0;34m.\u001b[0m\u001b[0mmatch\u001b[0m\u001b[0;34m(\u001b[0m\u001b[0;34m\"301\"\u001b[0m\u001b[0;34m,\u001b[0m \u001b[0mzyp\u001b[0m\u001b[0;34m)\u001b[0m\u001b[0;34m[\u001b[0m\u001b[0;36m0\u001b[0m\u001b[0;34m]\u001b[0m\u001b[0;34m\u001b[0m\u001b[0;34m\u001b[0m\u001b[0m\n\u001b[0m",
      "\u001b[0;31mTypeError\u001b[0m: 'NoneType' object is not subscriptable"
     ]
    }
   ],
   "source": [
    "re.match(\"301\", zyp)[0]#match从头开始艘"
   ]
  },
  {
   "cell_type": "markdown",
   "id": "6e6cdf5b",
   "metadata": {},
   "source": [
    "\\d = [0-9]\n",
    "? = [0-1]"
   ]
  }
 ],
 "metadata": {
  "kernelspec": {
   "display_name": "Python 3",
   "language": "python",
   "name": "python3"
  },
  "language_info": {
   "codemirror_mode": {
    "name": "ipython",
    "version": 3
   },
   "file_extension": ".py",
   "mimetype": "text/x-python",
   "name": "python",
   "nbconvert_exporter": "python",
   "pygments_lexer": "ipython3",
   "version": "3.8.8"
  }
 },
 "nbformat": 4,
 "nbformat_minor": 5
}
