{
 "cells": [
  {
   "cell_type": "code",
   "execution_count": 1,
   "id": "db5581b7",
   "metadata": {},
   "outputs": [
    {
     "name": "stdout",
     "output_type": "stream",
     "text": [
      "bin   cdrom  dev  home\tlib32  libx32\t   media  opt\troot  sbin  sys  usr\r\n",
      "boot  data   etc  lib\tlib64  lost+found  mnt\t  proc\trun   srv   tmp  var\r\n"
     ]
    }
   ],
   "source": [
    " ssh cyx@xxx.sys18.com #连上服务器"
   ]
  },
  {
   "cell_type": "code",
   "execution_count": null,
   "id": "05c3d55f",
   "metadata": {},
   "outputs": [],
   "source": [
    "jupyter notebook --ip=0.0.0.0 --port=9002   #开jupyter"
   ]
  },
  {
   "cell_type": "code",
   "execution_count": 2,
   "id": "d54cd6b9",
   "metadata": {},
   "outputs": [
    {
     "name": "stdout",
     "output_type": "stream",
     "text": [
      "https://github.com/e-kirkland/datascience/raw/master/Resume/ResumeExample.ipynb\n",
      "aaa\n",
      "爱你\n",
      "^C\n"
     ]
    }
   ],
   "source": [
    "tail /tmp/chat -f #查看chat文件最后几行，-f是每次有更新则显示出来"
   ]
  },
  {
   "cell_type": "code",
   "execution_count": null,
   "id": "4af7ab8a",
   "metadata": {},
   "outputs": [],
   "source": [
    " echo a | wall  #贴给服务器的所有人，有提示音\n",
    "echo f >>/zc/chat #写f进chat，  echo是prine 回声的意思\n",
    "#   >［文件名］是存stdout到后面这个文件\n",
    "#   >>［文件名］是存stdout到文件中且直接添加在后面\n",
    "#   |竖斜杠是管道的意思 把左边的文件的stdout写入右边文件的stdin"
   ]
  },
  {
   "cell_type": "code",
   "execution_count": null,
   "id": "0f2dca93",
   "metadata": {},
   "outputs": [],
   "source": [
    "sudo groupadd [groupname]\n",
    "sudo useradd -g [groupname] -G wheel [username] -s /bin/bash -m\n",
    "sudo passwd [username]    #sudo管理员权限运行"
   ]
  },
  {
   "cell_type": "code",
   "execution_count": null,
   "id": "8f2ecd89",
   "metadata": {},
   "outputs": [],
   "source": [
    "wget https://repo.anaconda.com/archive/Anaconda3-2021.05-Linux-x86_64.sh   #下载文件wget"
   ]
  },
  {
   "cell_type": "code",
   "execution_count": null,
   "id": "d2945c7d",
   "metadata": {},
   "outputs": [],
   "source": [
    "#route 分配地址用"
   ]
  },
  {
   "cell_type": "code",
   "execution_count": null,
   "id": "88769283",
   "metadata": {},
   "outputs": [],
   "source": [
    "/etc 配置文件地址"
   ]
  },
  {
   "cell_type": "code",
   "execution_count": null,
   "id": "c4430d61",
   "metadata": {},
   "outputs": [],
   "source": [
    "/tmp 临时文件地址"
   ]
  },
  {
   "cell_type": "code",
   "execution_count": null,
   "id": "3d58942a",
   "metadata": {},
   "outputs": [],
   "source": [
    "top 任务管理器 q退出\n",
    "ps 任务管理器  不用退出\n",
    "ps aux 看所有进程的"
   ]
  },
  {
   "cell_type": "code",
   "execution_count": null,
   "id": "46c996b5",
   "metadata": {},
   "outputs": [],
   "source": [
    "/etc/ssh/sshd_config    #ssh d=daemon文件带d的服务通常是后台运行的文件命名规则"
   ]
  },
  {
   "cell_type": "code",
   "execution_count": null,
   "id": "89fb865a",
   "metadata": {},
   "outputs": [],
   "source": [
    "vim / = search\n",
    "ssh cyx@xxx.sys18.com #进我的服务器\n",
    "#init 初始化\n",
    "su switch user #su =switch user\n",
    "jupyter notebook password  #设密码\n",
    "screen #开一个屏幕  关掉它是ctrl d 转进后台是ctrl a + d\n",
    "jupyter notebook --ip=0.0.0.0  --port=9002  #开启jupyter服务\n",
    "\n",
    "ccreen -r #在离开这个screen的前提下，返回这个screen\n",
    "\n",
    "sudo apt install git #???"
   ]
  }
 ],
 "metadata": {
  "kernelspec": {
   "display_name": "Python 3",
   "language": "python",
   "name": "python3"
  },
  "language_info": {
   "codemirror_mode": {
    "name": "ipython",
    "version": 3
   },
   "file_extension": ".py",
   "mimetype": "text/x-python",
   "name": "python",
   "nbconvert_exporter": "python",
   "pygments_lexer": "ipython3",
   "version": "3.8.8"
  }
 },
 "nbformat": 4,
 "nbformat_minor": 5
}
