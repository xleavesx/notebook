{
 "cells": [
  {
   "cell_type": "markdown",
   "id": "665dc0ff",
   "metadata": {},
   "source": [
    "#cmd notebook\n",
    "#新建文件夹：md\n",
    "#进入文件夹：cd\n",
    "#到上一层：cd..\n",
    "#到绝对路径：直接写绝对路径\n",
    "#移动：move 目前位置\\文件名\\目的地（\\是反斜杠，斜体字体有点看不清)     move C:\\Users\\Admin\\Untitled2.ipynb C:\\Users\\Admin\\cyx    "
   ]
  }
 ],
 "metadata": {
  "kernelspec": {
   "display_name": "Python 3",
   "language": "python",
   "name": "python3"
  },
  "language_info": {
   "codemirror_mode": {
    "name": "ipython",
    "version": 3
   },
   "file_extension": ".py",
   "mimetype": "text/x-python",
   "name": "python",
   "nbconvert_exporter": "python",
   "pygments_lexer": "ipython3",
   "version": "3.8.8"
  }
 },
 "nbformat": 4,
 "nbformat_minor": 5
}
